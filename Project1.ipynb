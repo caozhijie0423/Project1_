{
 "cells": [
  {
   "cell_type": "code",
   "execution_count": 1,
   "metadata": {
    "collapsed": true
   },
   "outputs": [],
   "source": [
    "from pyhive import hive"
   ]
  },
  {
   "cell_type": "code",
   "execution_count": 2,
   "metadata": {
    "collapsed": true
   },
   "outputs": [],
   "source": [
    "connection = hive.Connection(host='localhost',\n",
    "                          port=10000,\n",
    "                          database='project',\n",
    "                          username='root')\n",
    " "
   ]
  },
  {
   "cell_type": "code",
   "execution_count": 113,
   "metadata": {
    "collapsed": true
   },
   "outputs": [],
   "source": [
    "cursor=connection.cursor()"
   ]
  },
  {
   "cell_type": "code",
   "execution_count": 114,
   "metadata": {},
   "outputs": [
    {
     "name": "stdout",
     "output_type": "stream",
     "text": [
      "[('datatype',), ('movie',), ('ratings',), ('ratings2',), ('text2',)]\n"
     ]
    }
   ],
   "source": [
    "cursor.execute('show tables')\n",
    "print(cursor.fetchall())"
   ]
  },
  {
   "cell_type": "markdown",
   "metadata": {},
   "source": [
    "### three complicated data types\n",
    "1. array \n",
    "2. map\n",
    "3. structure"
   ]
  },
  {
   "cell_type": "code",
   "execution_count": 117,
   "metadata": {},
   "outputs": [
    {
     "data": {
      "text/plain": [
       "[('Michael', '{\"Math\":90,\"Physics\":85}', '[\"NJ\",\"Piscataway\"]', '{\"age\":17}'),\n",
       " ('Eric', '{\"Math\":80,\"Physics\":90}', '[\"CA\",\"Irvine\"]', '{\"age\":16}'),\n",
       " ('William', '{\"Math\":95,\"Physics\":95}', '[\"PA\",\"Pittsburgh\"]', '{\"age\":15}')]"
      ]
     },
     "execution_count": 117,
     "metadata": {},
     "output_type": "execute_result"
    }
   ],
   "source": [
    "cursor.execute('select * from datatype')\n",
    "cursor.fetchall()"
   ]
  },
  {
   "cell_type": "code",
   "execution_count": 122,
   "metadata": {},
   "outputs": [
    {
     "data": {
      "text/plain": [
       "[('Michael', 90), ('Eric', 80), ('William', 95)]"
      ]
     },
     "execution_count": 122,
     "metadata": {},
     "output_type": "execute_result"
    }
   ],
   "source": [
    "cursor.execute('select name, score[\"Math\"] from datatype')\n",
    "cursor.fetchall()"
   ]
  },
  {
   "cell_type": "code",
   "execution_count": 129,
   "metadata": {},
   "outputs": [
    {
     "data": {
      "text/plain": [
       "[('Michael', 17), ('Eric', 16), ('William', 15)]"
      ]
     },
     "execution_count": 129,
     "metadata": {},
     "output_type": "execute_result"
    }
   ],
   "source": [
    "cursor.execute('select name, info.age from datatype')\n",
    "cursor.fetchall()"
   ]
  },
  {
   "cell_type": "code",
   "execution_count": null,
   "metadata": {
    "collapsed": true
   },
   "outputs": [],
   "source": [
    "cursor.execute('select name, address[0] from datatype')\n",
    "cursor.fetchall()"
   ]
  },
  {
   "cell_type": "code",
   "execution_count": 77,
   "metadata": {
    "collapsed": true
   },
   "outputs": [],
   "source": [
    "sql_1='select a.id as movieid, a.moviename as moviename, substr(a.moviename,-6,4) as years,\\\n",
    "avg(b.ratings) as avgrate from movie a join ratings b on a.id=b.movieid group by a.id, a.moviename'\n",
    "\n",
    "cursor.execute(sql_1)"
   ]
  },
  {
   "cell_type": "code",
   "execution_count": 78,
   "metadata": {
    "collapsed": true
   },
   "outputs": [],
   "source": [
    "import pandas as pd\n",
    "columns = [col[0] for col in cursor.description]  #get column name\n",
    "result = [dict(zip(columns, row)) for row in cursor.fetchall()]\n",
    "dataf=pd.DataFrame(result)\n",
    "#dataf=dataf[columns]"
   ]
  },
  {
   "cell_type": "code",
   "execution_count": 125,
   "metadata": {},
   "outputs": [
    {
     "data": {
      "text/html": [
       "<div>\n",
       "<style>\n",
       "    .dataframe thead tr:only-child th {\n",
       "        text-align: right;\n",
       "    }\n",
       "\n",
       "    .dataframe thead th {\n",
       "        text-align: left;\n",
       "    }\n",
       "\n",
       "    .dataframe tbody tr th {\n",
       "        vertical-align: top;\n",
       "    }\n",
       "</style>\n",
       "<table border=\"1\" class=\"dataframe\">\n",
       "  <thead>\n",
       "    <tr style=\"text-align: right;\">\n",
       "      <th></th>\n",
       "      <th>movieid</th>\n",
       "      <th>moviename</th>\n",
       "      <th>years</th>\n",
       "      <th>avgrate</th>\n",
       "    </tr>\n",
       "  </thead>\n",
       "  <tbody>\n",
       "    <tr>\n",
       "      <th>0</th>\n",
       "      <td>1</td>\n",
       "      <td>\"Toy Story (1995)\"</td>\n",
       "      <td>1995</td>\n",
       "      <td>4.146846</td>\n",
       "    </tr>\n",
       "    <tr>\n",
       "      <th>1</th>\n",
       "      <td>2</td>\n",
       "      <td>\"Jumanji (1995)\"</td>\n",
       "      <td>1995</td>\n",
       "      <td>3.201141</td>\n",
       "    </tr>\n",
       "    <tr>\n",
       "      <th>2</th>\n",
       "      <td>3</td>\n",
       "      <td>\"Grumpier Old Men (1995)\"</td>\n",
       "      <td>1995</td>\n",
       "      <td>3.016736</td>\n",
       "    </tr>\n",
       "    <tr>\n",
       "      <th>3</th>\n",
       "      <td>4</td>\n",
       "      <td>\"Waiting to Exhale (1995)\"</td>\n",
       "      <td>1995</td>\n",
       "      <td>2.729412</td>\n",
       "    </tr>\n",
       "    <tr>\n",
       "      <th>4</th>\n",
       "      <td>5</td>\n",
       "      <td>\"Father of the Bride Part II (1995)\"</td>\n",
       "      <td>1995</td>\n",
       "      <td>3.006757</td>\n",
       "    </tr>\n",
       "    <tr>\n",
       "      <th>5</th>\n",
       "      <td>6</td>\n",
       "      <td>\"Heat (1995)\"</td>\n",
       "      <td>1995</td>\n",
       "      <td>3.878723</td>\n",
       "    </tr>\n",
       "    <tr>\n",
       "      <th>6</th>\n",
       "      <td>7</td>\n",
       "      <td>\"Sabrina (1995)\"</td>\n",
       "      <td>1995</td>\n",
       "      <td>3.410480</td>\n",
       "    </tr>\n",
       "    <tr>\n",
       "      <th>7</th>\n",
       "      <td>8</td>\n",
       "      <td>\"Tom and Huck (1995)\"</td>\n",
       "      <td>1995</td>\n",
       "      <td>3.014706</td>\n",
       "    </tr>\n",
       "    <tr>\n",
       "      <th>8</th>\n",
       "      <td>9</td>\n",
       "      <td>\"Sudden Death (1995)\"</td>\n",
       "      <td>1995</td>\n",
       "      <td>2.656863</td>\n",
       "    </tr>\n",
       "    <tr>\n",
       "      <th>9</th>\n",
       "      <td>10</td>\n",
       "      <td>\"GoldenEye (1995)\"</td>\n",
       "      <td>1995</td>\n",
       "      <td>3.540541</td>\n",
       "    </tr>\n",
       "  </tbody>\n",
       "</table>\n",
       "</div>"
      ],
      "text/plain": [
       "   movieid                             moviename years   avgrate\n",
       "0        1                    \"Toy Story (1995)\"  1995  4.146846\n",
       "1        2                      \"Jumanji (1995)\"  1995  3.201141\n",
       "2        3             \"Grumpier Old Men (1995)\"  1995  3.016736\n",
       "3        4            \"Waiting to Exhale (1995)\"  1995  2.729412\n",
       "4        5  \"Father of the Bride Part II (1995)\"  1995  3.006757\n",
       "5        6                         \"Heat (1995)\"  1995  3.878723\n",
       "6        7                      \"Sabrina (1995)\"  1995  3.410480\n",
       "7        8                 \"Tom and Huck (1995)\"  1995  3.014706\n",
       "8        9                 \"Sudden Death (1995)\"  1995  2.656863\n",
       "9       10                    \"GoldenEye (1995)\"  1995  3.540541"
      ]
     },
     "execution_count": 125,
     "metadata": {},
     "output_type": "execute_result"
    }
   ],
   "source": [
    "dataf=dataf[columns]\n",
    "dataf.head(10)"
   ]
  },
  {
   "cell_type": "code",
   "execution_count": null,
   "metadata": {
    "collapsed": true
   },
   "outputs": [],
   "source": []
  }
 ],
 "metadata": {
  "kernelspec": {
   "display_name": "Python 3",
   "language": "python",
   "name": "python3"
  },
  "language_info": {
   "codemirror_mode": {
    "name": "ipython",
    "version": 3
   },
   "file_extension": ".py",
   "mimetype": "text/x-python",
   "name": "python",
   "nbconvert_exporter": "python",
   "pygments_lexer": "ipython3",
   "version": "3.6.2"
  }
 },
 "nbformat": 4,
 "nbformat_minor": 2
}
